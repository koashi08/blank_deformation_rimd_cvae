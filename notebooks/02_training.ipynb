{
 "cells": [
  {
   "cell_type": "markdown",
   "metadata": {},
   "source": [
    "# 02. モデル学習\n",
    "\n",
    "このノートブックでは、RIMD特徴量を使用してモデルの学習を行います。\n",
    "\n",
    "## 処理内容\n",
    "1. 設定の選択・カスタマイズ\n",
    "2. データローダーの準備\n",
    "3. モデルの作成\n",
    "4. 学習の実行\n",
    "5. 結果の保存"
   ]
  },
  {
   "cell_type": "code",
   "execution_count": null,
   "metadata": {},
   "outputs": [],
   "source": [
    "# 必要なライブラリのインポート\n",
    "import sys\n",
    "from pathlib import Path\n",
    "\n",
    "# プロジェクトルートをパスに追加\n",
    "project_root = Path.cwd().parent\n",
    "sys.path.append(str(project_root))\n",
    "\n",
    "from config.experiment_configs import (\n",
    "    get_baseline_config, get_cvae_config, get_gnn_config,\n",
    "    get_large_model_config\n",
    ")\n",
    "from src.training.trainer import RIMDTrainer\n",
    "from src.data.dataset import RIMDDataModule\n",
    "from src.utils.experiment_manager import ExperimentManager\n",
    "import logging\n",
    "\n",
    "# ログレベル設定\n",
    "logging.basicConfig(level=logging.INFO)\n",
    "logger = logging.getLogger(__name__)"
   ]
  },
  {
   "cell_type": "markdown",
   "metadata": {},
   "source": [
    "## 実験設定の選択\n",
    "\n",
    "以下から実験設定を選択してください（コメントアウトを変更）："
   ]
  },
  {
   "cell_type": "code",
   "execution_count": null,
   "metadata": {},
   "outputs": [],
   "source": [
    "# ===========================================\n",
    "# 実験設定選択（1つだけコメントアウト解除）\n",
    "# ===========================================\n",
    "\n",
    "# 1. ベースライン実験（非VAE MLP）\n",
    "config = get_baseline_config()\n",
    "\n",
    "# 2. CVAE実験（不確実性モデリング）\n",
    "# config = get_cvae_config()\n",
    "\n",
    "# 3. GNN実験（GraphSAGE）\n",
    "# config = get_gnn_config()\n",
    "\n",
    "# 4. 大規模モデル実験\n",
    "# config = get_large_model_config()\n",
    "\n",
    "# ===========================================\n",
    "# カスタム設定例\n",
    "# ===========================================\n",
    "# config = get_baseline_config()\n",
    "# config.exp_id = \"custom_experiment\"\n",
    "# config.description = \"カスタム実験設定\"\n",
    "# config.model.hidden_dim = 256\n",
    "# config.loss.lambda_lap = 5e-3\n",
    "# config.training.learning_rate = 5e-4\n",
    "\n",
    "print(f\"選択された実験: {config.exp_id}\")\n",
    "print(f\"説明: {config.description}\")\n",
    "print(f\"モデルタイプ: {config.model.model_type}\")\n",
    "print(f\"CVAE使用: {config.model.use_cvae}\")"
   ]
  },
  {
   "cell_type": "code",
   "execution_count": null,
   "metadata": {},
   "outputs": [],
   "source": [
    "# 実験マネージャーの作成と環境セットアップ\n",
    "exp_manager = ExperimentManager(config)\n",
    "exp_manager.setup_experiment()\n",
    "\n",
    "print(f\"実験ディレクトリ: {exp_manager.exp_dir}\")\n",
    "print(f\"使用デバイス: {exp_manager.device}\")"
   ]
  },
  {
   "cell_type": "code",
   "execution_count": null,
   "metadata": {},
   "outputs": [],
   "source": [
    "# スケーラの読み込み\n",
    "try:\n",
    "    scalers = exp_manager.load_scalers()\n",
    "    print(\"スケーラ読み込み完了\")\n",
    "    print(f\"代表寸法: {scalers['representative_scale']:.2f}\")\n",
    "except FileNotFoundError:\n",
    "    print(\"スケーラが見つかりません。01_preprocessing.ipynb を先に実行してください。\")\n",
    "    raise"
   ]
  },
  {
   "cell_type": "code",
   "execution_count": null,
   "metadata": {},
   "outputs": [],
   "source": [
    "# データモジュールの作成\n",
    "datamodule = RIMDDataModule(config.data, scalers)\n",
    "\n",
    "# データセット情報表示\n",
    "print(\"データセット情報:\")\n",
    "print(f\"  Train: {len(datamodule.train_dataset)} cases\")\n",
    "print(f\"  Val: {len(datamodule.val_dataset)} cases\")\n",
    "print(f\"  Test: {len(datamodule.test_dataset)} cases\")\n",
    "\n",
    "# 特徴量次元確認\n",
    "edge_dim, node_dim = datamodule.get_feature_dimensions()\n",
    "print(f\"  エッジ特徴量次元: {edge_dim}\")\n",
    "print(f\"  ノード特徴量次元: {node_dim}\")"
   ]
  },
  {
   "cell_type": "code",
   "execution_count": null,
   "metadata": {},
   "outputs": [],
   "source": [
    "# トレーナーの作成\n",
    "trainer = RIMDTrainer(config, exp_manager)\n",
    "print(\"トレーナー作成完了\")"
   ]
  },
  {
   "cell_type": "markdown",
   "metadata": {},
   "source": [
    "## 学習実行\n",
    "\n",
    "設定に基づいてモデルの学習を開始します。"
   ]
  },
  {
   "cell_type": "code",
   "execution_count": null,
   "metadata": {
    "scrolled": true
   },
   "outputs": [],
   "source": [
    "# 学習実行\n",
    "print(\"=== 学習開始 ===\")\n",
    "try:\n",
    "    training_summary = trainer.fit(datamodule)\n",
    "    print(\"\\n=== 学習完了 ===\")\n",
    "    print(f\"学習エポック数: {training_summary['epochs_trained']}\")\n",
    "    print(f\"最良検証損失: {training_summary['best_val_loss']:.4f}\")\n",
    "    print(f\"最終学習率: {training_summary['final_learning_rate']:.2e}\")\n",
    "    \n",
    "except KeyboardInterrupt:\n",
    "    print(\"\\n学習が中断されました\")\n",
    "except Exception as e:\n",
    "    print(f\"\\n学習エラー: {e}\")\n",
    "    raise"
   ]
  },
  {
   "cell_type": "code",
   "execution_count": null,
   "metadata": {},
   "outputs": [],
   "source": [
    "# 学習結果の保存\n",
    "try:\n",
    "    final_results = {\n",
    "        **training_summary,\n",
    "        'experiment_config': config.to_dict()\n",
    "    }\n",
    "    \n",
    "    exp_manager.save_results(final_results)\n",
    "    print(\"学習結果保存完了\")\n",
    "    \n",
    "except Exception as e:\n",
    "    print(f\"結果保存エラー: {e}\")"
   ]
  },
  {
   "cell_type": "markdown",
   "metadata": {},
   "source": [
    "## 簡易評価\n",
    "\n",
    "学習済みモデルで検証データに対する簡易評価を実行します。"
   ]
  },
  {
   "cell_type": "code",
   "execution_count": null,
   "metadata": {},
   "outputs": [],
   "source": [
    "# 検証データで簡易評価\n",
    "print(\"検証データでの簡易評価...\")\n",
    "try:\n",
    "    val_predictions = trainer.predict(datamodule.val_dataloader())\n",
    "    \n",
    "    print(f\"予測形状: {val_predictions['predictions'].shape}\")\n",
    "    if 'targets' in val_predictions:\n",
    "        # 簡易メトリクス計算\n",
    "        import numpy as np\n",
    "        pred = val_predictions['predictions']\n",
    "        target = val_predictions['targets']\n",
    "        \n",
    "        mse = np.mean((pred - target) ** 2)\n",
    "        mae = np.mean(np.abs(pred - target))\n",
    "        \n",
    "        print(f\"検証MSE: {mse:.4f}\")\n",
    "        print(f\"検証MAE: {mae:.4f}\")\n",
    "    \n",
    "except Exception as e:\n",
    "    print(f\"簡易評価エラー: {e}\")"
   ]
  },
  {
   "cell_type": "markdown",
   "metadata": {},
   "source": [
    "## 学習完了\n",
    "\n",
    "モデルの学習が完了しました。\n",
    "\n",
    "### 保存された内容\n",
    "- ✅ 学習済みモデル（best_model.pth, latest_model.pth）\n",
    "- ✅ 学習ログ（metrics.jsonl）\n",
    "- ✅ 実験設定（config.json）\n",
    "- ✅ 最終結果（final_results.json）\n",
    "\n",
    "### 次のステップ\n",
    "1. `03_evaluation.ipynb` で詳細評価\n",
    "2. `04_analysis.ipynb` で結果分析・可視化\n",
    "\n",
    "### 別の設定で実験を続ける場合\n",
    "このセルの設定を変更して再実行してください：\n",
    "```python\n",
    "# CVAE実験に変更\n",
    "config = get_cvae_config()\n",
    "```"
   ]
  },
  {
   "cell_type": "markdown",
   "metadata": {},
   "source": []
  }
 ],
 "metadata": {
  "kernelspec": {
   "display_name": "Python 3",
   "language": "python",
   "name": "python3"
  },
  "language_info": {
   "codemirror_mode": {
    "name": "ipython",
    "version": 3
   },
   "file_extension": ".py",
   "name": "python",
   "nbconvert_exporter": "python",
   "pygments_lexer": "ipython3",
   "version": "3.8.0"
  }
 },
 "nbformat": 4,
 "nbformat_minor": 4
}
