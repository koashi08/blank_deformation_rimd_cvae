{
 "cells": [
  {
   "cell_type": "markdown",
   "metadata": {},
   "source": "# 01. データ前処理\n\nこのノートブックでは、実データ（df_node.pkl、df_element.pkl）からRIMD特徴量の計算と標準化を行います。\n\n## 処理内容\n1. 実データ（df_node.pkl、df_element.pkl）の読み込み\n2. ケース別データの抽出と処理\n3. RIMD特徴量の計算\n4. データ分割（train/val/test）\n5. 標準化器のフィット\n6. 処理済みデータの保存\n\n## データ構造\n- **df_node.pkl**: ノード単位のxyz座標値\n  - 1step法: step_blk_coord_x/y, step_prod_coord_x/y\n  - 逐次解析: nv_blk_coord_x/y, nv_prod_coord_x/y\n  - NodeIDがケースごとに1~1071\n- **df_element.pkl**: 要素単位の構成情報（ElementID n1 n2 n3 n4）\n- 両方ともcaseカラムでケースNo（No001, No002, ...）を識別"
  },
  {
   "cell_type": "code",
   "execution_count": null,
   "metadata": {},
   "outputs": [],
   "source": [
    "# 必要なライブラリのインポート\n",
    "import sys\n",
    "from pathlib import Path\n",
    "\n",
    "# プロジェクトルートをパスに追加\n",
    "project_root = Path.cwd().parent\n",
    "sys.path.append(str(project_root))\n",
    "\n",
    "from src.data.preprocessing import RIMDPreprocessor\n",
    "from src.utils.experiment_manager import ExperimentManager\n",
    "from config.experiment_configs import get_baseline_config\n",
    "import logging\n",
    "\n",
    "# ログレベル設定\n",
    "logging.basicConfig(level=logging.INFO)\n",
    "logger = logging.getLogger(__name__)"
   ]
  },
  {
   "cell_type": "code",
   "execution_count": null,
   "metadata": {},
   "outputs": [],
   "source": [
    "# 設定読み込み\n",
    "config = get_baseline_config()\n",
    "print(f\"実験ID: {config.exp_id}\")\n",
    "print(f\"説明: {config.description}\")\n",
    "\n",
    "# 実験マネージャー作成\n",
    "exp_manager = ExperimentManager(config)\n",
    "print(f\"実験ディレクトリ: {exp_manager.exp_dir}\")"
   ]
  },
  {
   "cell_type": "code",
   "execution_count": null,
   "metadata": {},
   "outputs": [],
   "source": [
    "# データ前処理器を初期化\n",
    "preprocessor = RIMDPreprocessor(config.data)\n",
    "print(\"RIMDPreprocessor initialized\")"
   ]
  },
  {
   "cell_type": "code",
   "execution_count": null,
   "metadata": {},
   "outputs": [],
   "source": [
    "# 全ケースの前処理を実行\n",
    "print(\"開始: 全ケースの前処理\")\n",
    "try:\n",
    "    preprocessor.process_all_cases()\n",
    "    print(\"✅ 全ケースの前処理完了\")\n",
    "except Exception as e:\n",
    "    print(f\"❌ 前処理エラー: {e}\")\n",
    "    raise"
   ]
  },
  {
   "cell_type": "code",
   "execution_count": null,
   "metadata": {},
   "outputs": [],
   "source": [
    "# データ分割を作成\n",
    "print(\"開始: データ分割作成\")\n",
    "try:\n",
    "    preprocessor.create_splits()\n",
    "    splits = preprocessor.load_splits()\n",
    "    \n",
    "    print(\"✅ データ分割完了\")\n",
    "    print(f\"Train: {len(splits['train'])} cases\")\n",
    "    print(f\"Val: {len(splits['val'])} cases\")\n",
    "    print(f\"Test: {len(splits['test'])} cases\")\n",
    "    \n",
    "except Exception as e:\n",
    "    print(f\"❌ データ分割エラー: {e}\")\n",
    "    raise"
   ]
  },
  {
   "cell_type": "code",
   "execution_count": null,
   "metadata": {},
   "outputs": [],
   "source": [
    "# 標準化器をフィットして保存\n",
    "print(\"開始: 標準化器のフィット\")\n",
    "try:\n",
    "    scalers = preprocessor.fit_scalers()\n",
    "    exp_manager.save_scalers(scalers)\n",
    "    \n",
    "    print(\"✅ 標準化器のフィット完了\")\n",
    "    print(f\"代表寸法: {scalers['representative_scale']:.2f}\")\n",
    "    print(\"スケーラが保存されました\")\n",
    "    \n",
    "except Exception as e:\n",
    "    print(f\"❌ 標準化器フィットエラー: {e}\")\n",
    "    raise"
   ]
  },
  {
   "cell_type": "code",
   "execution_count": null,
   "metadata": {},
   "outputs": [],
   "source": [
    "# 処理結果の確認\n",
    "from src.data.dataset import RIMDDataModule\n",
    "\n",
    "print(\"処理結果確認...\")\n",
    "try:\n",
    "    # データモジュール作成\n",
    "    datamodule = RIMDDataModule(config.data, scalers)\n",
    "    \n",
    "    # サンプルバッチ取得\n",
    "    sample_batch = datamodule.get_sample_batch(\"train\")\n",
    "    \n",
    "    print(\"✅ データモジュール動作確認完了\")\n",
    "    print(f\"エッジ特徴量次元: {sample_batch['edge_features'].shape}\")\n",
    "    print(f\"ノード特徴量次元: {sample_batch['node_features'].shape}\")\n",
    "    print(f\"ターゲット次元: {sample_batch['target'].shape}\")\n",
    "    \n",
    "except Exception as e:\n",
    "    print(f\"❌ データモジュール確認エラー: {e}\")\n",
    "    raise"
   ]
  },
  {
   "cell_type": "markdown",
   "metadata": {},
   "source": [
    "## 前処理完了\n",
    "\n",
    "前処理が正常に完了しました。次に `02_training.ipynb` で学習を開始できます。\n",
    "\n",
    "### 処理された内容\n",
    "- ✅ RIMD特徴量計算\n",
    "- ✅ データ分割（train/val/test）\n",
    "- ✅ 標準化器フィット\n",
    "- ✅ 処理済みデータ保存\n",
    "\n",
    "### 次のステップ\n",
    "1. `02_training.ipynb` でモデル学習\n",
    "2. `03_evaluation.ipynb` でモデル評価\n",
    "3. `04_analysis.ipynb` で結果分析"
   ]
  }
 ],
 "metadata": {
  "kernelspec": {
   "display_name": "Python 3",
   "language": "python",
   "name": "python3"
  },
  "language_info": {
   "codemirror_mode": {
    "name": "ipython",
    "version": 3
   },
   "file_extension": ".py",
   "name": "python",
   "nbconvert_exporter": "python",
   "pygments_lexer": "ipython3",
   "version": "3.8.0"
  }
 },
 "nbformat": 4,
 "nbformat_minor": 4
}